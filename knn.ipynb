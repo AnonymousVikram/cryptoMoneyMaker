{
 "cells": [
  {
   "cell_type": "code",
   "execution_count": 2,
   "metadata": {},
   "outputs": [],
   "source": [
    "import pandas as pd\n",
    "from sklearn.neighbors import KNeighborsClassifier\n",
    "from seaborn import load_dataset"
   ]
  },
  {
   "cell_type": "code",
   "execution_count": 3,
   "metadata": {},
   "outputs": [],
   "source": [
    "import numpy as np"
   ]
  },
  {
   "cell_type": "code",
   "execution_count": 555,
   "metadata": {},
   "outputs": [],
   "source": [
    "temp = np.loadtxt('scrapedDataNP.csv', delimiter=',', dtype=float)"
   ]
  },
  {
   "cell_type": "code",
   "execution_count": 556,
   "metadata": {},
   "outputs": [],
   "source": [
    "temp = np.delete(temp, [2, 3, 5, 6, 8, 9], axis=1)"
   ]
  },
  {
   "cell_type": "code",
   "execution_count": 557,
   "metadata": {},
   "outputs": [
    {
     "data": {
      "text/plain": [
       "array([1.58656320e+12, 9.57605828e-01, 6.86469426e+03, 1.57740158e+02])"
      ]
     },
     "execution_count": 557,
     "metadata": {},
     "output_type": "execute_result"
    }
   ],
   "source": [
    "temp[0]"
   ]
  },
  {
   "cell_type": "code",
   "execution_count": 560,
   "metadata": {},
   "outputs": [],
   "source": [
    "max = np.max(temp[:, 1:])"
   ]
  },
  {
   "cell_type": "code",
   "execution_count": 561,
   "metadata": {},
   "outputs": [
    {
     "data": {
      "text/plain": [
       "67617.0155448617"
      ]
     },
     "execution_count": 561,
     "metadata": {},
     "output_type": "execute_result"
    }
   ],
   "source": [
    "max"
   ]
  },
  {
   "cell_type": "code",
   "execution_count": 562,
   "metadata": {},
   "outputs": [],
   "source": [
    "temp = temp/max"
   ]
  },
  {
   "cell_type": "code",
   "execution_count": 563,
   "metadata": {},
   "outputs": [
    {
     "data": {
      "text/plain": [
       "array([2.34639637e+07, 1.41622019e-05, 1.01523177e-01, 2.33284709e-03])"
      ]
     },
     "execution_count": 563,
     "metadata": {},
     "output_type": "execute_result"
    }
   ],
   "source": [
    "temp[0]"
   ]
  },
  {
   "cell_type": "code",
   "execution_count": 564,
   "metadata": {},
   "outputs": [],
   "source": [
    "nextPrices = []\n",
    "for row in temp:\n",
    "    nextPrices.append(row[1])"
   ]
  },
  {
   "cell_type": "code",
   "execution_count": 565,
   "metadata": {},
   "outputs": [
    {
     "data": {
      "text/plain": [
       "[1.4162201929473504e-05,\n",
       " 1.1605234399915388e-05,\n",
       " 1.2955236190668264e-05,\n",
       " 1.1634825763995847e-05,\n",
       " 9.859550664030931e-06,\n",
       " 9.429890718637613e-06]"
      ]
     },
     "execution_count": 565,
     "metadata": {},
     "output_type": "execute_result"
    }
   ],
   "source": [
    "nextPrices[0:6]"
   ]
  },
  {
   "cell_type": "code",
   "execution_count": 566,
   "metadata": {},
   "outputs": [],
   "source": [
    "# temp = np.delete(temp, -1, axis=0)\n",
    "nextPrices = np.delete(nextPrices, [0, 1, 2, 3, 4], axis=0)"
   ]
  },
  {
   "cell_type": "code",
   "execution_count": 567,
   "metadata": {},
   "outputs": [],
   "source": [
    "def create_dataset(dataset):\n",
    "    data0, data1, data2, data3, data4 = [], [], [], [], []\n",
    "    returner = np.empty((len(dataset)-5, 5, 10))\n",
    "    for i in range(len(dataset)-5):\n",
    "        returner[i][0] = dataset[i]\n",
    "        returner[i][1] = dataset[i+1]\n",
    "        returner[i][2] = dataset[i+2]\n",
    "        returner[i][3] = dataset[i+3]\n",
    "        returner[i][4] = dataset[i+4]\n",
    "    return returner"
   ]
  },
  {
   "cell_type": "code",
   "execution_count": 568,
   "metadata": {},
   "outputs": [
    {
     "ename": "ValueError",
     "evalue": "could not broadcast input array from shape (4,) into shape (10,)",
     "output_type": "error",
     "traceback": [
      "\u001b[1;31m---------------------------------------------------------------------------\u001b[0m",
      "\u001b[1;31mValueError\u001b[0m                                Traceback (most recent call last)",
      "Input \u001b[1;32mIn [568]\u001b[0m, in \u001b[0;36m<cell line: 1>\u001b[1;34m()\u001b[0m\n\u001b[1;32m----> 1\u001b[0m final \u001b[39m=\u001b[39m create_dataset(temp)\n",
      "Input \u001b[1;32mIn [567]\u001b[0m, in \u001b[0;36mcreate_dataset\u001b[1;34m(dataset)\u001b[0m\n\u001b[0;32m      3\u001b[0m returner \u001b[39m=\u001b[39m np\u001b[39m.\u001b[39mempty((\u001b[39mlen\u001b[39m(dataset)\u001b[39m-\u001b[39m\u001b[39m5\u001b[39m, \u001b[39m5\u001b[39m, \u001b[39m10\u001b[39m))\n\u001b[0;32m      4\u001b[0m \u001b[39mfor\u001b[39;00m i \u001b[39min\u001b[39;00m \u001b[39mrange\u001b[39m(\u001b[39mlen\u001b[39m(dataset)\u001b[39m-\u001b[39m\u001b[39m5\u001b[39m):\n\u001b[1;32m----> 5\u001b[0m     returner[i][\u001b[39m0\u001b[39m] \u001b[39m=\u001b[39m dataset[i]\n\u001b[0;32m      6\u001b[0m     returner[i][\u001b[39m1\u001b[39m] \u001b[39m=\u001b[39m dataset[i\u001b[39m+\u001b[39m\u001b[39m1\u001b[39m]\n\u001b[0;32m      7\u001b[0m     returner[i][\u001b[39m2\u001b[39m] \u001b[39m=\u001b[39m dataset[i\u001b[39m+\u001b[39m\u001b[39m2\u001b[39m]\n",
      "\u001b[1;31mValueError\u001b[0m: could not broadcast input array from shape (4,) into shape (10,)"
     ]
    }
   ],
   "source": [
    "final = create_dataset(temp)"
   ]
  },
  {
   "cell_type": "code",
   "execution_count": 569,
   "metadata": {},
   "outputs": [],
   "source": [
    "trainSplit = round(len(final) * 0.7)"
   ]
  },
  {
   "cell_type": "code",
   "execution_count": 570,
   "metadata": {},
   "outputs": [],
   "source": [
    "trainX = final[:trainSplit]\n",
    "trainY = nextPrices[:trainSplit]\n",
    "testX = final[trainSplit:]\n",
    "testY = nextPrices[trainSplit:]"
   ]
  },
  {
   "cell_type": "code",
   "execution_count": 296,
   "metadata": {},
   "outputs": [],
   "source": [
    "from tensorflow import keras"
   ]
  },
  {
   "cell_type": "code",
   "execution_count": 571,
   "metadata": {},
   "outputs": [],
   "source": [
    "model = keras.models.Sequential()"
   ]
  },
  {
   "cell_type": "code",
   "execution_count": 572,
   "metadata": {},
   "outputs": [],
   "source": [
    "# model.add(keras.layers.Flatten(input_shape=(5,10)))\n",
    "model.add(keras.layers.Dense(500, input_shape=(5,10), activation = 'relu'))\n",
    "model.add(keras.layers.Dense(100, activation = 'relu'))\n",
    "model.add(keras.layers.Dense(50, activation = 'relu'))\n",
    "# model.add(keras.layers.Dropout(0.2))\n",
    "# model.add(keras.layers.Dense(100, activation = 'tanh'))\n",
    "# model.add(keras.layers.Dense(50, activation = 'tanh'))\n",
    "model.add(keras.layers.Dense(10, activation = 'relu'))\n",
    "model.add(keras.layers.Dense(1))"
   ]
  },
  {
   "cell_type": "code",
   "execution_count": 573,
   "metadata": {},
   "outputs": [
    {
     "name": "stdout",
     "output_type": "stream",
     "text": [
      "Model: \"sequential_50\"\n",
      "_________________________________________________________________\n",
      "Layer (type)                 Output Shape              Param #   \n",
      "=================================================================\n",
      "dense_250 (Dense)            (None, 5, 500)            5500      \n",
      "_________________________________________________________________\n",
      "dense_251 (Dense)            (None, 5, 100)            50100     \n",
      "_________________________________________________________________\n",
      "dense_252 (Dense)            (None, 5, 50)             5050      \n",
      "_________________________________________________________________\n",
      "dense_253 (Dense)            (None, 5, 10)             510       \n",
      "_________________________________________________________________\n",
      "dense_254 (Dense)            (None, 5, 1)              11        \n",
      "=================================================================\n",
      "Total params: 61,171\n",
      "Trainable params: 61,171\n",
      "Non-trainable params: 0\n",
      "_________________________________________________________________\n"
     ]
    }
   ],
   "source": [
    "model.summary()"
   ]
  },
  {
   "cell_type": "code",
   "execution_count": 574,
   "metadata": {},
   "outputs": [],
   "source": [
    "optimizerAdam = keras.optimizers.RMSprop(learning_rate=0.05)"
   ]
  },
  {
   "cell_type": "code",
   "execution_count": 575,
   "metadata": {},
   "outputs": [],
   "source": [
    "model.compile(\n",
    "    optimizer='adam',\n",
    "    loss='mean_absolute_percentage_error',\n",
    "    metrics=['mean_absolute_percentage_error']\n",
    ")"
   ]
  },
  {
   "cell_type": "code",
   "execution_count": 576,
   "metadata": {},
   "outputs": [
    {
     "name": "stdout",
     "output_type": "stream",
     "text": [
      "Epoch 1/200\n",
      "15/15 - 3s - loss: 49182.7812 - mean_absolute_percentage_error: 49182.7812 - val_loss: 255.9988 - val_mean_absolute_percentage_error: 255.9988\n",
      "Epoch 2/200\n",
      "15/15 - 0s - loss: 7144.7822 - mean_absolute_percentage_error: 7144.7822 - val_loss: 671.6089 - val_mean_absolute_percentage_error: 671.6089\n",
      "Epoch 3/200\n",
      "15/15 - 0s - loss: 15615.3926 - mean_absolute_percentage_error: 15615.3926 - val_loss: 125.8749 - val_mean_absolute_percentage_error: 125.8749\n",
      "Epoch 4/200\n",
      "15/15 - 0s - loss: 5467.9146 - mean_absolute_percentage_error: 5467.9146 - val_loss: 111.7444 - val_mean_absolute_percentage_error: 111.7444\n",
      "Epoch 5/200\n",
      "15/15 - 0s - loss: 16632.1426 - mean_absolute_percentage_error: 16632.1426 - val_loss: 141.6491 - val_mean_absolute_percentage_error: 141.6491\n",
      "Epoch 6/200\n",
      "15/15 - 0s - loss: 18401.0605 - mean_absolute_percentage_error: 18401.0605 - val_loss: 119.2749 - val_mean_absolute_percentage_error: 119.2749\n",
      "Epoch 7/200\n",
      "15/15 - 0s - loss: 8633.8555 - mean_absolute_percentage_error: 8633.8555 - val_loss: 102.5506 - val_mean_absolute_percentage_error: 102.5506\n",
      "Epoch 8/200\n",
      "15/15 - 0s - loss: 4295.7173 - mean_absolute_percentage_error: 4295.7173 - val_loss: 59.9378 - val_mean_absolute_percentage_error: 59.9378\n",
      "Epoch 9/200\n",
      "15/15 - 0s - loss: 4386.9414 - mean_absolute_percentage_error: 4386.9414 - val_loss: 298.8022 - val_mean_absolute_percentage_error: 298.8022\n",
      "Epoch 10/200\n",
      "15/15 - 0s - loss: 6834.5259 - mean_absolute_percentage_error: 6834.5259 - val_loss: 264.1890 - val_mean_absolute_percentage_error: 264.1890\n",
      "Epoch 11/200\n",
      "15/15 - 0s - loss: 7216.6934 - mean_absolute_percentage_error: 7216.6934 - val_loss: 146.2353 - val_mean_absolute_percentage_error: 146.2353\n",
      "Epoch 12/200\n",
      "15/15 - 0s - loss: 13649.1152 - mean_absolute_percentage_error: 13649.1152 - val_loss: 240.4862 - val_mean_absolute_percentage_error: 240.4862\n",
      "Epoch 13/200\n",
      "15/15 - 0s - loss: 4684.6152 - mean_absolute_percentage_error: 4684.6152 - val_loss: 276.2994 - val_mean_absolute_percentage_error: 276.2994\n",
      "Epoch 14/200\n",
      "15/15 - 0s - loss: 6489.5601 - mean_absolute_percentage_error: 6489.5601 - val_loss: 104.5000 - val_mean_absolute_percentage_error: 104.5000\n",
      "Epoch 15/200\n",
      "15/15 - 0s - loss: 4007.1301 - mean_absolute_percentage_error: 4007.1301 - val_loss: 243.7124 - val_mean_absolute_percentage_error: 243.7124\n",
      "Epoch 16/200\n",
      "15/15 - 0s - loss: 6320.2129 - mean_absolute_percentage_error: 6320.2129 - val_loss: 219.0151 - val_mean_absolute_percentage_error: 219.0151\n",
      "Epoch 17/200\n",
      "15/15 - 0s - loss: 5989.8633 - mean_absolute_percentage_error: 5989.8633 - val_loss: 62.4544 - val_mean_absolute_percentage_error: 62.4544\n",
      "Epoch 18/200\n",
      "15/15 - 0s - loss: 4082.4636 - mean_absolute_percentage_error: 4082.4636 - val_loss: 149.4089 - val_mean_absolute_percentage_error: 149.4089\n",
      "Epoch 19/200\n",
      "15/15 - 0s - loss: 7645.9307 - mean_absolute_percentage_error: 7645.9307 - val_loss: 175.1845 - val_mean_absolute_percentage_error: 175.1845\n",
      "Epoch 20/200\n",
      "15/15 - 0s - loss: 2775.9873 - mean_absolute_percentage_error: 2775.9873 - val_loss: 43.1384 - val_mean_absolute_percentage_error: 43.1384\n",
      "Epoch 21/200\n",
      "15/15 - 0s - loss: 5734.5200 - mean_absolute_percentage_error: 5734.5200 - val_loss: 424.2087 - val_mean_absolute_percentage_error: 424.2087\n",
      "Epoch 22/200\n",
      "15/15 - 0s - loss: 3888.1033 - mean_absolute_percentage_error: 3888.1033 - val_loss: 104.2057 - val_mean_absolute_percentage_error: 104.2057\n",
      "Epoch 23/200\n",
      "15/15 - 0s - loss: 2290.5188 - mean_absolute_percentage_error: 2290.5188 - val_loss: 116.5315 - val_mean_absolute_percentage_error: 116.5315\n",
      "Epoch 24/200\n",
      "15/15 - 0s - loss: 3597.0698 - mean_absolute_percentage_error: 3597.0698 - val_loss: 257.1598 - val_mean_absolute_percentage_error: 257.1598\n",
      "Epoch 25/200\n",
      "15/15 - 0s - loss: 2746.1602 - mean_absolute_percentage_error: 2746.1602 - val_loss: 228.4462 - val_mean_absolute_percentage_error: 228.4462\n",
      "Epoch 26/200\n",
      "15/15 - 0s - loss: 2766.2664 - mean_absolute_percentage_error: 2766.2664 - val_loss: 53.5020 - val_mean_absolute_percentage_error: 53.5020\n",
      "Epoch 27/200\n",
      "15/15 - 0s - loss: 2638.6558 - mean_absolute_percentage_error: 2638.6558 - val_loss: 65.7013 - val_mean_absolute_percentage_error: 65.7013\n",
      "Epoch 28/200\n",
      "15/15 - 0s - loss: 1890.3064 - mean_absolute_percentage_error: 1890.3064 - val_loss: 52.0152 - val_mean_absolute_percentage_error: 52.0152\n",
      "Epoch 29/200\n",
      "15/15 - 0s - loss: 2205.8811 - mean_absolute_percentage_error: 2205.8811 - val_loss: 51.7923 - val_mean_absolute_percentage_error: 51.7923\n",
      "Epoch 30/200\n",
      "15/15 - 0s - loss: 3482.5598 - mean_absolute_percentage_error: 3482.5598 - val_loss: 190.3230 - val_mean_absolute_percentage_error: 190.3230\n",
      "Epoch 31/200\n",
      "15/15 - 0s - loss: 3521.4883 - mean_absolute_percentage_error: 3521.4883 - val_loss: 147.1881 - val_mean_absolute_percentage_error: 147.1881\n",
      "Epoch 32/200\n",
      "15/15 - 0s - loss: 3103.9861 - mean_absolute_percentage_error: 3103.9861 - val_loss: 50.5956 - val_mean_absolute_percentage_error: 50.5956\n",
      "Epoch 33/200\n",
      "15/15 - 0s - loss: 1407.3573 - mean_absolute_percentage_error: 1407.3573 - val_loss: 101.2863 - val_mean_absolute_percentage_error: 101.2863\n",
      "Epoch 34/200\n",
      "15/15 - 0s - loss: 1483.8743 - mean_absolute_percentage_error: 1483.8743 - val_loss: 49.4849 - val_mean_absolute_percentage_error: 49.4849\n",
      "Epoch 35/200\n",
      "15/15 - 0s - loss: 1559.1775 - mean_absolute_percentage_error: 1559.1775 - val_loss: 100.7249 - val_mean_absolute_percentage_error: 100.7249\n",
      "Epoch 36/200\n",
      "15/15 - 0s - loss: 3126.7795 - mean_absolute_percentage_error: 3126.7795 - val_loss: 141.8159 - val_mean_absolute_percentage_error: 141.8159\n",
      "Epoch 37/200\n",
      "15/15 - 0s - loss: 3100.8442 - mean_absolute_percentage_error: 3100.8442 - val_loss: 105.9679 - val_mean_absolute_percentage_error: 105.9679\n",
      "Epoch 38/200\n",
      "15/15 - 0s - loss: 1485.7273 - mean_absolute_percentage_error: 1485.7273 - val_loss: 45.9773 - val_mean_absolute_percentage_error: 45.9773\n",
      "Epoch 39/200\n",
      "15/15 - 0s - loss: 1459.6040 - mean_absolute_percentage_error: 1459.6040 - val_loss: 49.0601 - val_mean_absolute_percentage_error: 49.0601\n",
      "Epoch 40/200\n",
      "15/15 - 0s - loss: 2460.5510 - mean_absolute_percentage_error: 2460.5510 - val_loss: 134.5523 - val_mean_absolute_percentage_error: 134.5523\n",
      "Epoch 41/200\n",
      "15/15 - 0s - loss: 3384.3291 - mean_absolute_percentage_error: 3384.3291 - val_loss: 47.9970 - val_mean_absolute_percentage_error: 47.9970\n",
      "Epoch 42/200\n",
      "15/15 - 0s - loss: 6774.2280 - mean_absolute_percentage_error: 6774.2280 - val_loss: 146.0636 - val_mean_absolute_percentage_error: 146.0636\n",
      "Epoch 43/200\n",
      "15/15 - 0s - loss: 5692.0127 - mean_absolute_percentage_error: 5692.0127 - val_loss: 285.5878 - val_mean_absolute_percentage_error: 285.5878\n",
      "Epoch 44/200\n",
      "15/15 - 0s - loss: 4557.7783 - mean_absolute_percentage_error: 4557.7783 - val_loss: 42.0917 - val_mean_absolute_percentage_error: 42.0917\n",
      "Epoch 45/200\n",
      "15/15 - 0s - loss: 5029.5732 - mean_absolute_percentage_error: 5029.5732 - val_loss: 236.6386 - val_mean_absolute_percentage_error: 236.6386\n",
      "Epoch 46/200\n",
      "15/15 - 0s - loss: 3823.8181 - mean_absolute_percentage_error: 3823.8181 - val_loss: 66.8817 - val_mean_absolute_percentage_error: 66.8817\n",
      "Epoch 47/200\n",
      "15/15 - 0s - loss: 3487.3953 - mean_absolute_percentage_error: 3487.3953 - val_loss: 212.7899 - val_mean_absolute_percentage_error: 212.7899\n",
      "Epoch 48/200\n",
      "15/15 - 0s - loss: 4007.0007 - mean_absolute_percentage_error: 4007.0007 - val_loss: 215.6130 - val_mean_absolute_percentage_error: 215.6130\n",
      "Epoch 49/200\n",
      "15/15 - 0s - loss: 4036.9624 - mean_absolute_percentage_error: 4036.9624 - val_loss: 96.8803 - val_mean_absolute_percentage_error: 96.8803\n",
      "Epoch 50/200\n",
      "15/15 - 0s - loss: 2612.1133 - mean_absolute_percentage_error: 2612.1133 - val_loss: 134.1107 - val_mean_absolute_percentage_error: 134.1107\n",
      "Epoch 51/200\n",
      "15/15 - 0s - loss: 2409.7415 - mean_absolute_percentage_error: 2409.7415 - val_loss: 85.4724 - val_mean_absolute_percentage_error: 85.4724\n",
      "Epoch 52/200\n",
      "15/15 - 0s - loss: 2000.8832 - mean_absolute_percentage_error: 2000.8832 - val_loss: 46.1086 - val_mean_absolute_percentage_error: 46.1086\n",
      "Epoch 53/200\n",
      "15/15 - 0s - loss: 4022.0142 - mean_absolute_percentage_error: 4022.0142 - val_loss: 176.3192 - val_mean_absolute_percentage_error: 176.3192\n",
      "Epoch 54/200\n",
      "15/15 - 0s - loss: 3823.7283 - mean_absolute_percentage_error: 3823.7283 - val_loss: 144.2090 - val_mean_absolute_percentage_error: 144.2090\n",
      "Epoch 55/200\n",
      "15/15 - 0s - loss: 906.8742 - mean_absolute_percentage_error: 906.8742 - val_loss: 38.3230 - val_mean_absolute_percentage_error: 38.3230\n",
      "Epoch 56/200\n",
      "15/15 - 0s - loss: 1242.6052 - mean_absolute_percentage_error: 1242.6052 - val_loss: 142.7978 - val_mean_absolute_percentage_error: 142.7978\n",
      "Epoch 57/200\n",
      "15/15 - 0s - loss: 1972.1278 - mean_absolute_percentage_error: 1972.1278 - val_loss: 59.8526 - val_mean_absolute_percentage_error: 59.8526\n",
      "Epoch 58/200\n",
      "15/15 - 0s - loss: 2361.4565 - mean_absolute_percentage_error: 2361.4565 - val_loss: 40.7308 - val_mean_absolute_percentage_error: 40.7308\n",
      "Epoch 59/200\n",
      "15/15 - 0s - loss: 2795.6257 - mean_absolute_percentage_error: 2795.6257 - val_loss: 147.9481 - val_mean_absolute_percentage_error: 147.9481\n",
      "Epoch 60/200\n",
      "15/15 - 0s - loss: 3751.7341 - mean_absolute_percentage_error: 3751.7341 - val_loss: 78.7568 - val_mean_absolute_percentage_error: 78.7568\n",
      "Epoch 61/200\n",
      "15/15 - 0s - loss: 1234.3602 - mean_absolute_percentage_error: 1234.3602 - val_loss: 98.5880 - val_mean_absolute_percentage_error: 98.5880\n",
      "Epoch 62/200\n",
      "15/15 - 0s - loss: 2175.3486 - mean_absolute_percentage_error: 2175.3486 - val_loss: 72.8937 - val_mean_absolute_percentage_error: 72.8937\n",
      "Epoch 63/200\n",
      "15/15 - 0s - loss: 3185.8582 - mean_absolute_percentage_error: 3185.8582 - val_loss: 77.0924 - val_mean_absolute_percentage_error: 77.0924\n",
      "Epoch 64/200\n",
      "15/15 - 0s - loss: 5243.1602 - mean_absolute_percentage_error: 5243.1602 - val_loss: 163.1505 - val_mean_absolute_percentage_error: 163.1505\n",
      "Epoch 65/200\n",
      "15/15 - 0s - loss: 3886.8298 - mean_absolute_percentage_error: 3886.8298 - val_loss: 105.1087 - val_mean_absolute_percentage_error: 105.1087\n",
      "Epoch 66/200\n",
      "15/15 - 0s - loss: 2470.5347 - mean_absolute_percentage_error: 2470.5347 - val_loss: 50.6815 - val_mean_absolute_percentage_error: 50.6815\n",
      "Epoch 67/200\n",
      "15/15 - 0s - loss: 1157.8416 - mean_absolute_percentage_error: 1157.8416 - val_loss: 44.2243 - val_mean_absolute_percentage_error: 44.2243\n",
      "Epoch 68/200\n",
      "15/15 - 0s - loss: 1718.3579 - mean_absolute_percentage_error: 1718.3579 - val_loss: 49.4241 - val_mean_absolute_percentage_error: 49.4241\n",
      "Epoch 69/200\n",
      "15/15 - 0s - loss: 2781.7053 - mean_absolute_percentage_error: 2781.7053 - val_loss: 203.9779 - val_mean_absolute_percentage_error: 203.9779\n",
      "Epoch 70/200\n",
      "15/15 - 0s - loss: 2921.5425 - mean_absolute_percentage_error: 2921.5425 - val_loss: 46.4552 - val_mean_absolute_percentage_error: 46.4552\n",
      "Epoch 71/200\n",
      "15/15 - 0s - loss: 2615.6060 - mean_absolute_percentage_error: 2615.6060 - val_loss: 73.2497 - val_mean_absolute_percentage_error: 73.2497\n",
      "Epoch 72/200\n",
      "15/15 - 0s - loss: 2773.2188 - mean_absolute_percentage_error: 2773.2188 - val_loss: 58.8482 - val_mean_absolute_percentage_error: 58.8482\n",
      "Epoch 73/200\n",
      "15/15 - 0s - loss: 1481.9452 - mean_absolute_percentage_error: 1481.9452 - val_loss: 65.5918 - val_mean_absolute_percentage_error: 65.5918\n",
      "Epoch 74/200\n",
      "15/15 - 0s - loss: 1227.3400 - mean_absolute_percentage_error: 1227.3400 - val_loss: 68.5060 - val_mean_absolute_percentage_error: 68.5060\n",
      "Epoch 75/200\n",
      "15/15 - 0s - loss: 1057.5367 - mean_absolute_percentage_error: 1057.5367 - val_loss: 44.5751 - val_mean_absolute_percentage_error: 44.5751\n",
      "Epoch 76/200\n",
      "15/15 - 0s - loss: 2038.7775 - mean_absolute_percentage_error: 2038.7775 - val_loss: 46.3797 - val_mean_absolute_percentage_error: 46.3797\n",
      "Epoch 77/200\n",
      "15/15 - 0s - loss: 2125.4053 - mean_absolute_percentage_error: 2125.4053 - val_loss: 96.1582 - val_mean_absolute_percentage_error: 96.1582\n",
      "Epoch 78/200\n",
      "15/15 - 0s - loss: 3263.8643 - mean_absolute_percentage_error: 3263.8643 - val_loss: 60.0802 - val_mean_absolute_percentage_error: 60.0802\n",
      "Epoch 79/200\n",
      "15/15 - 0s - loss: 1636.7122 - mean_absolute_percentage_error: 1636.7122 - val_loss: 118.4136 - val_mean_absolute_percentage_error: 118.4136\n",
      "Epoch 80/200\n",
      "15/15 - 0s - loss: 2446.2700 - mean_absolute_percentage_error: 2446.2700 - val_loss: 53.3052 - val_mean_absolute_percentage_error: 53.3052\n",
      "Epoch 81/200\n",
      "15/15 - 0s - loss: 1091.8530 - mean_absolute_percentage_error: 1091.8530 - val_loss: 56.6036 - val_mean_absolute_percentage_error: 56.6036\n",
      "Epoch 82/200\n",
      "15/15 - 0s - loss: 2546.0559 - mean_absolute_percentage_error: 2546.0559 - val_loss: 47.5945 - val_mean_absolute_percentage_error: 47.5945\n",
      "Epoch 83/200\n",
      "15/15 - 0s - loss: 2586.5737 - mean_absolute_percentage_error: 2586.5737 - val_loss: 86.1032 - val_mean_absolute_percentage_error: 86.1032\n",
      "Epoch 84/200\n",
      "15/15 - 0s - loss: 2131.4263 - mean_absolute_percentage_error: 2131.4263 - val_loss: 43.2829 - val_mean_absolute_percentage_error: 43.2829\n",
      "Epoch 85/200\n",
      "15/15 - 0s - loss: 1222.0132 - mean_absolute_percentage_error: 1222.0132 - val_loss: 42.5241 - val_mean_absolute_percentage_error: 42.5241\n",
      "Epoch 86/200\n",
      "15/15 - 0s - loss: 1361.3240 - mean_absolute_percentage_error: 1361.3240 - val_loss: 43.7347 - val_mean_absolute_percentage_error: 43.7347\n",
      "Epoch 87/200\n",
      "15/15 - 0s - loss: 3120.4075 - mean_absolute_percentage_error: 3120.4075 - val_loss: 43.3454 - val_mean_absolute_percentage_error: 43.3454\n",
      "Epoch 88/200\n",
      "15/15 - 0s - loss: 1355.0803 - mean_absolute_percentage_error: 1355.0803 - val_loss: 43.1782 - val_mean_absolute_percentage_error: 43.1782\n",
      "Epoch 89/200\n",
      "15/15 - 0s - loss: 513.4507 - mean_absolute_percentage_error: 513.4507 - val_loss: 43.3608 - val_mean_absolute_percentage_error: 43.3608\n",
      "Epoch 90/200\n",
      "15/15 - 0s - loss: 1172.5615 - mean_absolute_percentage_error: 1172.5615 - val_loss: 75.7832 - val_mean_absolute_percentage_error: 75.7832\n",
      "Epoch 91/200\n",
      "15/15 - 0s - loss: 1500.3588 - mean_absolute_percentage_error: 1500.3588 - val_loss: 44.0669 - val_mean_absolute_percentage_error: 44.0669\n",
      "Epoch 92/200\n",
      "15/15 - 0s - loss: 710.0318 - mean_absolute_percentage_error: 710.0318 - val_loss: 43.0702 - val_mean_absolute_percentage_error: 43.0702\n",
      "Epoch 93/200\n",
      "15/15 - 0s - loss: 2164.1167 - mean_absolute_percentage_error: 2164.1167 - val_loss: 51.0596 - val_mean_absolute_percentage_error: 51.0596\n",
      "Epoch 94/200\n",
      "15/15 - 0s - loss: 1845.1714 - mean_absolute_percentage_error: 1845.1714 - val_loss: 130.2763 - val_mean_absolute_percentage_error: 130.2763\n",
      "Epoch 95/200\n",
      "15/15 - 0s - loss: 802.6146 - mean_absolute_percentage_error: 802.6146 - val_loss: 92.9914 - val_mean_absolute_percentage_error: 92.9914\n",
      "Epoch 96/200\n",
      "15/15 - 0s - loss: 1307.7788 - mean_absolute_percentage_error: 1307.7788 - val_loss: 80.0341 - val_mean_absolute_percentage_error: 80.0341\n",
      "Epoch 97/200\n",
      "15/15 - 0s - loss: 1253.9935 - mean_absolute_percentage_error: 1253.9935 - val_loss: 55.1072 - val_mean_absolute_percentage_error: 55.1072\n",
      "Epoch 98/200\n",
      "15/15 - 0s - loss: 2506.6655 - mean_absolute_percentage_error: 2506.6655 - val_loss: 95.6581 - val_mean_absolute_percentage_error: 95.6581\n",
      "Epoch 99/200\n",
      "15/15 - 0s - loss: 1390.9545 - mean_absolute_percentage_error: 1390.9545 - val_loss: 54.8816 - val_mean_absolute_percentage_error: 54.8816\n",
      "Epoch 100/200\n",
      "15/15 - 0s - loss: 3094.2537 - mean_absolute_percentage_error: 3094.2537 - val_loss: 127.8619 - val_mean_absolute_percentage_error: 127.8619\n",
      "Epoch 101/200\n",
      "15/15 - 0s - loss: 1372.2910 - mean_absolute_percentage_error: 1372.2910 - val_loss: 82.5961 - val_mean_absolute_percentage_error: 82.5961\n",
      "Epoch 102/200\n",
      "15/15 - 0s - loss: 1543.0090 - mean_absolute_percentage_error: 1543.0090 - val_loss: 124.8642 - val_mean_absolute_percentage_error: 124.8642\n",
      "Epoch 103/200\n",
      "15/15 - 0s - loss: 2041.5835 - mean_absolute_percentage_error: 2041.5835 - val_loss: 140.5205 - val_mean_absolute_percentage_error: 140.5205\n",
      "Epoch 104/200\n",
      "15/15 - 0s - loss: 1836.4913 - mean_absolute_percentage_error: 1836.4913 - val_loss: 51.7813 - val_mean_absolute_percentage_error: 51.7813\n",
      "Epoch 105/200\n",
      "15/15 - 0s - loss: 908.4875 - mean_absolute_percentage_error: 908.4875 - val_loss: 101.3468 - val_mean_absolute_percentage_error: 101.3468\n",
      "Epoch 106/200\n",
      "15/15 - 0s - loss: 1486.9128 - mean_absolute_percentage_error: 1486.9128 - val_loss: 51.7179 - val_mean_absolute_percentage_error: 51.7179\n",
      "Epoch 107/200\n",
      "15/15 - 0s - loss: 1771.5101 - mean_absolute_percentage_error: 1771.5101 - val_loss: 40.9275 - val_mean_absolute_percentage_error: 40.9275\n",
      "Epoch 108/200\n",
      "15/15 - 0s - loss: 896.4294 - mean_absolute_percentage_error: 896.4294 - val_loss: 115.8251 - val_mean_absolute_percentage_error: 115.8251\n",
      "Epoch 109/200\n",
      "15/15 - 0s - loss: 1906.9890 - mean_absolute_percentage_error: 1906.9890 - val_loss: 134.9304 - val_mean_absolute_percentage_error: 134.9304\n",
      "Epoch 110/200\n",
      "15/15 - 0s - loss: 2860.2449 - mean_absolute_percentage_error: 2860.2449 - val_loss: 39.0528 - val_mean_absolute_percentage_error: 39.0528\n",
      "Epoch 111/200\n",
      "15/15 - 0s - loss: 2281.6726 - mean_absolute_percentage_error: 2281.6726 - val_loss: 126.2301 - val_mean_absolute_percentage_error: 126.2301\n",
      "Epoch 112/200\n",
      "15/15 - 0s - loss: 2158.2451 - mean_absolute_percentage_error: 2158.2451 - val_loss: 56.5247 - val_mean_absolute_percentage_error: 56.5247\n",
      "Epoch 113/200\n",
      "15/15 - 0s - loss: 641.1683 - mean_absolute_percentage_error: 641.1683 - val_loss: 41.7344 - val_mean_absolute_percentage_error: 41.7344\n",
      "Epoch 114/200\n",
      "15/15 - 0s - loss: 1753.5001 - mean_absolute_percentage_error: 1753.5001 - val_loss: 45.6011 - val_mean_absolute_percentage_error: 45.6011\n",
      "Epoch 115/200\n",
      "15/15 - 0s - loss: 1419.6458 - mean_absolute_percentage_error: 1419.6458 - val_loss: 41.4199 - val_mean_absolute_percentage_error: 41.4199\n",
      "Epoch 116/200\n",
      "15/15 - 0s - loss: 850.1025 - mean_absolute_percentage_error: 850.1025 - val_loss: 59.8863 - val_mean_absolute_percentage_error: 59.8863\n",
      "Epoch 117/200\n",
      "15/15 - 0s - loss: 810.3258 - mean_absolute_percentage_error: 810.3258 - val_loss: 57.4162 - val_mean_absolute_percentage_error: 57.4162\n",
      "Epoch 118/200\n",
      "15/15 - 0s - loss: 1009.5279 - mean_absolute_percentage_error: 1009.5279 - val_loss: 42.8784 - val_mean_absolute_percentage_error: 42.8784\n",
      "Epoch 119/200\n",
      "15/15 - 0s - loss: 953.7751 - mean_absolute_percentage_error: 953.7751 - val_loss: 66.7352 - val_mean_absolute_percentage_error: 66.7352\n",
      "Epoch 120/200\n",
      "15/15 - 0s - loss: 1355.2371 - mean_absolute_percentage_error: 1355.2371 - val_loss: 136.4961 - val_mean_absolute_percentage_error: 136.4961\n",
      "Epoch 121/200\n",
      "15/15 - 0s - loss: 2082.3713 - mean_absolute_percentage_error: 2082.3713 - val_loss: 41.6118 - val_mean_absolute_percentage_error: 41.6118\n",
      "Epoch 122/200\n",
      "15/15 - 0s - loss: 1580.7955 - mean_absolute_percentage_error: 1580.7955 - val_loss: 41.7292 - val_mean_absolute_percentage_error: 41.7292\n",
      "Epoch 123/200\n",
      "15/15 - 0s - loss: 2453.9893 - mean_absolute_percentage_error: 2453.9893 - val_loss: 140.1817 - val_mean_absolute_percentage_error: 140.1817\n",
      "Epoch 124/200\n",
      "15/15 - 0s - loss: 2814.1858 - mean_absolute_percentage_error: 2814.1858 - val_loss: 58.0534 - val_mean_absolute_percentage_error: 58.0534\n",
      "Epoch 125/200\n",
      "15/15 - 0s - loss: 950.5232 - mean_absolute_percentage_error: 950.5232 - val_loss: 134.1974 - val_mean_absolute_percentage_error: 134.1974\n",
      "Epoch 126/200\n",
      "15/15 - 0s - loss: 1345.5443 - mean_absolute_percentage_error: 1345.5443 - val_loss: 50.6205 - val_mean_absolute_percentage_error: 50.6205\n",
      "Epoch 127/200\n",
      "15/15 - 0s - loss: 1520.7850 - mean_absolute_percentage_error: 1520.7850 - val_loss: 68.5926 - val_mean_absolute_percentage_error: 68.5926\n",
      "Epoch 128/200\n",
      "15/15 - 0s - loss: 3125.3123 - mean_absolute_percentage_error: 3125.3123 - val_loss: 158.3035 - val_mean_absolute_percentage_error: 158.3035\n",
      "Epoch 129/200\n",
      "15/15 - 0s - loss: 1278.0363 - mean_absolute_percentage_error: 1278.0363 - val_loss: 44.0421 - val_mean_absolute_percentage_error: 44.0421\n",
      "Epoch 130/200\n",
      "15/15 - 0s - loss: 2031.2189 - mean_absolute_percentage_error: 2031.2189 - val_loss: 43.8125 - val_mean_absolute_percentage_error: 43.8125\n",
      "Epoch 131/200\n",
      "15/15 - 0s - loss: 1354.8073 - mean_absolute_percentage_error: 1354.8073 - val_loss: 146.1817 - val_mean_absolute_percentage_error: 146.1817\n",
      "Epoch 132/200\n",
      "15/15 - 0s - loss: 1770.9324 - mean_absolute_percentage_error: 1770.9324 - val_loss: 96.9414 - val_mean_absolute_percentage_error: 96.9414\n",
      "Epoch 133/200\n",
      "15/15 - 0s - loss: 1747.5374 - mean_absolute_percentage_error: 1747.5374 - val_loss: 137.6977 - val_mean_absolute_percentage_error: 137.6977\n",
      "Epoch 134/200\n",
      "15/15 - 0s - loss: 1630.1227 - mean_absolute_percentage_error: 1630.1227 - val_loss: 49.0040 - val_mean_absolute_percentage_error: 49.0040\n",
      "Epoch 135/200\n",
      "15/15 - 0s - loss: 1790.5034 - mean_absolute_percentage_error: 1790.5034 - val_loss: 54.4402 - val_mean_absolute_percentage_error: 54.4402\n",
      "Epoch 136/200\n",
      "15/15 - 0s - loss: 1995.6951 - mean_absolute_percentage_error: 1995.6951 - val_loss: 109.2866 - val_mean_absolute_percentage_error: 109.2866\n",
      "Epoch 137/200\n",
      "15/15 - 0s - loss: 1190.7733 - mean_absolute_percentage_error: 1190.7733 - val_loss: 47.1555 - val_mean_absolute_percentage_error: 47.1555\n",
      "Epoch 138/200\n",
      "15/15 - 0s - loss: 1635.3644 - mean_absolute_percentage_error: 1635.3644 - val_loss: 49.1817 - val_mean_absolute_percentage_error: 49.1817\n",
      "Epoch 139/200\n",
      "15/15 - 0s - loss: 2975.3103 - mean_absolute_percentage_error: 2975.3103 - val_loss: 126.2552 - val_mean_absolute_percentage_error: 126.2552\n",
      "Epoch 140/200\n",
      "15/15 - 0s - loss: 1658.2692 - mean_absolute_percentage_error: 1658.2692 - val_loss: 88.3714 - val_mean_absolute_percentage_error: 88.3714\n",
      "Epoch 141/200\n",
      "15/15 - 0s - loss: 872.1912 - mean_absolute_percentage_error: 872.1912 - val_loss: 95.3848 - val_mean_absolute_percentage_error: 95.3848\n",
      "Epoch 142/200\n",
      "15/15 - 0s - loss: 816.7545 - mean_absolute_percentage_error: 816.7545 - val_loss: 59.2792 - val_mean_absolute_percentage_error: 59.2792\n",
      "Epoch 143/200\n",
      "15/15 - 0s - loss: 1186.0208 - mean_absolute_percentage_error: 1186.0208 - val_loss: 138.8813 - val_mean_absolute_percentage_error: 138.8813\n",
      "Epoch 144/200\n",
      "15/15 - 0s - loss: 1607.9297 - mean_absolute_percentage_error: 1607.9297 - val_loss: 127.8889 - val_mean_absolute_percentage_error: 127.8889\n",
      "Epoch 145/200\n",
      "15/15 - 0s - loss: 1941.8959 - mean_absolute_percentage_error: 1941.8959 - val_loss: 145.9747 - val_mean_absolute_percentage_error: 145.9747\n",
      "Epoch 146/200\n",
      "15/15 - 0s - loss: 1177.5029 - mean_absolute_percentage_error: 1177.5029 - val_loss: 60.7536 - val_mean_absolute_percentage_error: 60.7536\n",
      "Epoch 147/200\n",
      "15/15 - 0s - loss: 546.5296 - mean_absolute_percentage_error: 546.5296 - val_loss: 100.9644 - val_mean_absolute_percentage_error: 100.9644\n",
      "Epoch 148/200\n",
      "15/15 - 0s - loss: 887.0145 - mean_absolute_percentage_error: 887.0145 - val_loss: 67.8550 - val_mean_absolute_percentage_error: 67.8550\n",
      "Epoch 149/200\n",
      "15/15 - 0s - loss: 1498.8920 - mean_absolute_percentage_error: 1498.8920 - val_loss: 46.1820 - val_mean_absolute_percentage_error: 46.1820\n",
      "Epoch 150/200\n",
      "15/15 - 0s - loss: 1156.0421 - mean_absolute_percentage_error: 1156.0421 - val_loss: 49.2605 - val_mean_absolute_percentage_error: 49.2605\n",
      "Epoch 151/200\n",
      "15/15 - 0s - loss: 1001.6335 - mean_absolute_percentage_error: 1001.6335 - val_loss: 56.5046 - val_mean_absolute_percentage_error: 56.5046\n",
      "Epoch 152/200\n",
      "15/15 - 0s - loss: 951.1149 - mean_absolute_percentage_error: 951.1149 - val_loss: 44.8449 - val_mean_absolute_percentage_error: 44.8449\n",
      "Epoch 153/200\n",
      "15/15 - 0s - loss: 1995.2103 - mean_absolute_percentage_error: 1995.2103 - val_loss: 172.8709 - val_mean_absolute_percentage_error: 172.8709\n",
      "Epoch 154/200\n",
      "15/15 - 0s - loss: 1202.6428 - mean_absolute_percentage_error: 1202.6428 - val_loss: 92.1731 - val_mean_absolute_percentage_error: 92.1731\n",
      "Epoch 155/200\n",
      "15/15 - 0s - loss: 1189.0636 - mean_absolute_percentage_error: 1189.0636 - val_loss: 113.9759 - val_mean_absolute_percentage_error: 113.9759\n",
      "Epoch 156/200\n",
      "15/15 - 0s - loss: 1133.7084 - mean_absolute_percentage_error: 1133.7084 - val_loss: 71.8167 - val_mean_absolute_percentage_error: 71.8167\n",
      "Epoch 157/200\n",
      "15/15 - 0s - loss: 2523.7141 - mean_absolute_percentage_error: 2523.7141 - val_loss: 61.0645 - val_mean_absolute_percentage_error: 61.0645\n",
      "Epoch 158/200\n",
      "15/15 - 0s - loss: 2657.0376 - mean_absolute_percentage_error: 2657.0376 - val_loss: 131.8887 - val_mean_absolute_percentage_error: 131.8887\n",
      "Epoch 159/200\n",
      "15/15 - 0s - loss: 2193.6357 - mean_absolute_percentage_error: 2193.6357 - val_loss: 58.7037 - val_mean_absolute_percentage_error: 58.7037\n",
      "Epoch 160/200\n",
      "15/15 - 0s - loss: 647.2940 - mean_absolute_percentage_error: 647.2940 - val_loss: 74.6682 - val_mean_absolute_percentage_error: 74.6682\n",
      "Epoch 161/200\n",
      "15/15 - 0s - loss: 562.2651 - mean_absolute_percentage_error: 562.2651 - val_loss: 41.3501 - val_mean_absolute_percentage_error: 41.3501\n",
      "Epoch 162/200\n",
      "15/15 - 0s - loss: 491.5442 - mean_absolute_percentage_error: 491.5442 - val_loss: 97.8772 - val_mean_absolute_percentage_error: 97.8772\n",
      "Epoch 163/200\n",
      "15/15 - 0s - loss: 751.9839 - mean_absolute_percentage_error: 751.9839 - val_loss: 95.1474 - val_mean_absolute_percentage_error: 95.1474\n",
      "Epoch 164/200\n",
      "15/15 - 0s - loss: 880.3756 - mean_absolute_percentage_error: 880.3756 - val_loss: 60.5113 - val_mean_absolute_percentage_error: 60.5113\n",
      "Epoch 165/200\n",
      "15/15 - 0s - loss: 899.5719 - mean_absolute_percentage_error: 899.5719 - val_loss: 41.9818 - val_mean_absolute_percentage_error: 41.9818\n",
      "Epoch 166/200\n",
      "15/15 - 0s - loss: 1143.7493 - mean_absolute_percentage_error: 1143.7493 - val_loss: 40.6506 - val_mean_absolute_percentage_error: 40.6506\n",
      "Epoch 167/200\n",
      "15/15 - 0s - loss: 2012.5466 - mean_absolute_percentage_error: 2012.5466 - val_loss: 64.1766 - val_mean_absolute_percentage_error: 64.1766\n",
      "Epoch 168/200\n",
      "15/15 - 0s - loss: 1808.1666 - mean_absolute_percentage_error: 1808.1666 - val_loss: 77.8298 - val_mean_absolute_percentage_error: 77.8298\n",
      "Epoch 169/200\n",
      "15/15 - 0s - loss: 1705.6593 - mean_absolute_percentage_error: 1705.6593 - val_loss: 42.4423 - val_mean_absolute_percentage_error: 42.4423\n",
      "Epoch 170/200\n",
      "15/15 - 0s - loss: 924.1147 - mean_absolute_percentage_error: 924.1147 - val_loss: 103.8907 - val_mean_absolute_percentage_error: 103.8907\n",
      "Epoch 171/200\n",
      "15/15 - 0s - loss: 1554.5658 - mean_absolute_percentage_error: 1554.5658 - val_loss: 46.8192 - val_mean_absolute_percentage_error: 46.8192\n",
      "Epoch 172/200\n",
      "15/15 - 0s - loss: 1081.5845 - mean_absolute_percentage_error: 1081.5845 - val_loss: 42.0147 - val_mean_absolute_percentage_error: 42.0147\n",
      "Epoch 173/200\n",
      "15/15 - 0s - loss: 1081.1190 - mean_absolute_percentage_error: 1081.1190 - val_loss: 40.4306 - val_mean_absolute_percentage_error: 40.4306\n",
      "Epoch 174/200\n",
      "15/15 - 0s - loss: 1273.4109 - mean_absolute_percentage_error: 1273.4109 - val_loss: 36.8592 - val_mean_absolute_percentage_error: 36.8592\n",
      "Epoch 175/200\n",
      "15/15 - 0s - loss: 1531.6350 - mean_absolute_percentage_error: 1531.6350 - val_loss: 39.7073 - val_mean_absolute_percentage_error: 39.7073\n",
      "Epoch 176/200\n",
      "15/15 - 0s - loss: 842.3730 - mean_absolute_percentage_error: 842.3730 - val_loss: 42.8473 - val_mean_absolute_percentage_error: 42.8473\n",
      "Epoch 177/200\n",
      "15/15 - 0s - loss: 757.9407 - mean_absolute_percentage_error: 757.9407 - val_loss: 42.2743 - val_mean_absolute_percentage_error: 42.2743\n",
      "Epoch 178/200\n",
      "15/15 - 0s - loss: 1540.7343 - mean_absolute_percentage_error: 1540.7343 - val_loss: 70.1814 - val_mean_absolute_percentage_error: 70.1814\n",
      "Epoch 179/200\n",
      "15/15 - 0s - loss: 1415.0303 - mean_absolute_percentage_error: 1415.0303 - val_loss: 119.2341 - val_mean_absolute_percentage_error: 119.2341\n",
      "Epoch 180/200\n",
      "15/15 - 0s - loss: 869.8214 - mean_absolute_percentage_error: 869.8214 - val_loss: 35.6988 - val_mean_absolute_percentage_error: 35.6988\n",
      "Epoch 181/200\n",
      "15/15 - 0s - loss: 856.7413 - mean_absolute_percentage_error: 856.7413 - val_loss: 35.2465 - val_mean_absolute_percentage_error: 35.2465\n",
      "Epoch 182/200\n",
      "15/15 - 0s - loss: 618.7720 - mean_absolute_percentage_error: 618.7720 - val_loss: 76.1225 - val_mean_absolute_percentage_error: 76.1224\n",
      "Epoch 183/200\n",
      "15/15 - 0s - loss: 973.7263 - mean_absolute_percentage_error: 973.7263 - val_loss: 73.7588 - val_mean_absolute_percentage_error: 73.7588\n",
      "Epoch 184/200\n",
      "15/15 - 0s - loss: 580.1094 - mean_absolute_percentage_error: 580.1094 - val_loss: 48.9151 - val_mean_absolute_percentage_error: 48.9151\n",
      "Epoch 185/200\n",
      "15/15 - 0s - loss: 585.2628 - mean_absolute_percentage_error: 585.2628 - val_loss: 34.7197 - val_mean_absolute_percentage_error: 34.7197\n",
      "Epoch 186/200\n",
      "15/15 - 0s - loss: 464.7557 - mean_absolute_percentage_error: 464.7557 - val_loss: 34.6142 - val_mean_absolute_percentage_error: 34.6142\n",
      "Epoch 187/200\n",
      "15/15 - 0s - loss: 862.5920 - mean_absolute_percentage_error: 862.5920 - val_loss: 117.1270 - val_mean_absolute_percentage_error: 117.1270\n",
      "Epoch 188/200\n",
      "15/15 - 0s - loss: 2030.2150 - mean_absolute_percentage_error: 2030.2150 - val_loss: 46.0985 - val_mean_absolute_percentage_error: 46.0985\n",
      "Epoch 189/200\n",
      "15/15 - 0s - loss: 1470.2587 - mean_absolute_percentage_error: 1470.2587 - val_loss: 122.2776 - val_mean_absolute_percentage_error: 122.2776\n",
      "Epoch 190/200\n",
      "15/15 - 0s - loss: 788.6316 - mean_absolute_percentage_error: 788.6316 - val_loss: 33.1811 - val_mean_absolute_percentage_error: 33.1811\n",
      "Epoch 191/200\n",
      "15/15 - 0s - loss: 1166.9927 - mean_absolute_percentage_error: 1166.9927 - val_loss: 43.0503 - val_mean_absolute_percentage_error: 43.0503\n",
      "Epoch 192/200\n",
      "15/15 - 0s - loss: 1817.0962 - mean_absolute_percentage_error: 1817.0962 - val_loss: 97.5723 - val_mean_absolute_percentage_error: 97.5723\n",
      "Epoch 193/200\n",
      "15/15 - 0s - loss: 1931.3162 - mean_absolute_percentage_error: 1931.3162 - val_loss: 75.2207 - val_mean_absolute_percentage_error: 75.2207\n",
      "Epoch 194/200\n",
      "15/15 - 0s - loss: 905.4860 - mean_absolute_percentage_error: 905.4860 - val_loss: 34.5121 - val_mean_absolute_percentage_error: 34.5121\n",
      "Epoch 195/200\n",
      "15/15 - 0s - loss: 360.2147 - mean_absolute_percentage_error: 360.2147 - val_loss: 58.1516 - val_mean_absolute_percentage_error: 58.1516\n",
      "Epoch 196/200\n",
      "15/15 - 0s - loss: 840.6138 - mean_absolute_percentage_error: 840.6138 - val_loss: 46.5005 - val_mean_absolute_percentage_error: 46.5005\n",
      "Epoch 197/200\n",
      "15/15 - 0s - loss: 851.2697 - mean_absolute_percentage_error: 851.2697 - val_loss: 68.2836 - val_mean_absolute_percentage_error: 68.2836\n",
      "Epoch 198/200\n",
      "15/15 - 0s - loss: 393.4668 - mean_absolute_percentage_error: 393.4668 - val_loss: 33.3748 - val_mean_absolute_percentage_error: 33.3748\n",
      "Epoch 199/200\n",
      "15/15 - 0s - loss: 433.0513 - mean_absolute_percentage_error: 433.0513 - val_loss: 40.5814 - val_mean_absolute_percentage_error: 40.5814\n",
      "Epoch 200/200\n",
      "15/15 - 0s - loss: 661.3579 - mean_absolute_percentage_error: 661.3579 - val_loss: 66.4666 - val_mean_absolute_percentage_error: 66.4666\n"
     ]
    },
    {
     "data": {
      "text/plain": [
       "<keras.callbacks.History at 0x1fc014ed4f0>"
      ]
     },
     "execution_count": 576,
     "metadata": {},
     "output_type": "execute_result"
    }
   ],
   "source": [
    "model.fit(trainX, trainY, epochs=200, batch_size=32, verbose=2, validation_split=0.1)"
   ]
  },
  {
   "cell_type": "code",
   "execution_count": 577,
   "metadata": {},
   "outputs": [
    {
     "data": {
      "text/plain": [
       "0.0005323995"
      ]
     },
     "execution_count": 577,
     "metadata": {},
     "output_type": "execute_result"
    }
   ],
   "source": [
    "model.predict(np.reshape(testX[0], (1, 5, 10)))[0][0][0]"
   ]
  },
  {
   "cell_type": "code",
   "execution_count": 578,
   "metadata": {},
   "outputs": [
    {
     "data": {
      "text/plain": [
       "0.0020603415405549674"
      ]
     },
     "execution_count": 578,
     "metadata": {},
     "output_type": "execute_result"
    }
   ],
   "source": [
    "testY[0]"
   ]
  },
  {
   "cell_type": "code",
   "execution_count": 330,
   "metadata": {},
   "outputs": [
    {
     "name": "stdout",
     "output_type": "stream",
     "text": [
      "8/8 [==============================] - 0s 997us/step - loss: 12977.3086 - mean_squared_error: 12977.3086\n"
     ]
    },
    {
     "data": {
      "text/plain": [
       "[12977.30859375, 12977.30859375]"
      ]
     },
     "execution_count": 330,
     "metadata": {},
     "output_type": "execute_result"
    }
   ],
   "source": [
    "model.evaluate(testX, testY)"
   ]
  },
  {
   "cell_type": "code",
   "execution_count": null,
   "metadata": {},
   "outputs": [],
   "source": [
    "[12977.30859375, 12977.30859375]\n"
   ]
  }
 ],
 "metadata": {
  "interpreter": {
   "hash": "899dac71aa3195bc1de2f92821bbfc657d82d608c75581069004caa2dbcf79e6"
  },
  "kernelspec": {
   "display_name": "Python 3.9.12 ('cryptoPredEnv')",
   "language": "python",
   "name": "python3"
  },
  "language_info": {
   "codemirror_mode": {
    "name": "ipython",
    "version": 3
   },
   "file_extension": ".py",
   "mimetype": "text/x-python",
   "name": "python",
   "nbconvert_exporter": "python",
   "pygments_lexer": "ipython3",
   "version": "3.9.12"
  },
  "orig_nbformat": 4
 },
 "nbformat": 4,
 "nbformat_minor": 2
}
